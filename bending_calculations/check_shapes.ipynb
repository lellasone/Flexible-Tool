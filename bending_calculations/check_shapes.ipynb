{
 "cells": [
  {
   "cell_type": "markdown",
   "metadata": {},
   "source": [
    "# Initial shape Testing\n",
    "This file contains code to test whether a cubic spline can be used to initialize the optomizer that solves for a line given endpoints. \n",
    "## Current State:\n",
    "This code does / does not work. \n",
    "## Notes:"
   ]
  },
  {
   "cell_type": "code",
   "execution_count": 1,
   "metadata": {},
   "outputs": [],
   "source": [
    "import numpy as np\n",
    "import sympy as sym\n",
    "import scipy\n",
    "from sympy import *\n",
    "from scipy.integrate import solve_bvp # solve boundary value problem\n",
    "from scipy.integrate import solve_ivp # solve initial value problem\n",
    "from scipy.optimize import minimize\n",
    "from scipy.linalg import norm\n",
    "import math\n",
    "pi = math.pi\n",
    "%matplotlib inline \n",
    "import matplotlib.pyplot as plt\n",
    "from IPython.display import Image\n",
    "from math import *\n",
    "from scipy.interpolate import CubicSpline\n",
    "from numba import jit, prange"
   ]
  },
  {
   "cell_type": "code",
   "execution_count": 2,
   "metadata": {},
   "outputs": [],
   "source": [
    "nt = 51\n",
    "T = 1\n",
    "dt = T/(nt-1)"
   ]
  },
  {
   "cell_type": "code",
   "execution_count": 3,
   "metadata": {},
   "outputs": [],
   "source": [
    "def dynamics_2d(t, q, u):\n",
    "    q1, q2, q3 = q \n",
    "    dq1dt = np.cos(q3)\n",
    "    dq2dt = np.sin(q3)\n",
    "    dq3dt = u(t)\n",
    "\n",
    "    dqdt = [dq1dt, dq2dt, dq3dt]\n",
    "    return dqdt"
   ]
  },
  {
   "cell_type": "code",
   "execution_count": 22,
   "metadata": {},
   "outputs": [
    {
     "data": {
      "text/plain": [
       "[<matplotlib.lines.Line2D at 0x7f13f26f51c0>]"
      ]
     },
     "execution_count": 22,
     "metadata": {},
     "output_type": "execute_result"
    },
    {
     "data": {
      "image/png": "[encoded data removed]",
      "text/plain": [
       "<Figure size 432x288 with 1 Axes>"
      ]
     },
     "metadata": {
      "needs_background": "light"
     },
     "output_type": "display_data"
    }
   ],
   "source": [
    "r = 0.5\n",
    "x = np.linspace(0,10,nt)\n",
    "x_inter = [0,np.median(x),x[-1]]\n",
    "# y_inter = [0, np.sqrt(1-np.median(x)),0]\n",
    "# y_inter = [0, np.sqrt(1-np.median(x))*0.5,0]\n",
    "y_inter = [0, 10 ,0]\n",
    "f = CubicSpline(x_inter, y_inter, bc_type='natural')\n",
    "# f = CubicSpline(x_inter, y_inter, bc_type='clamped')\n",
    "y = f(x)\n",
    "plt.plot(x,y)\n",
    "\n",
    "\n",
    "# #### for theta calculating\n",
    "# x2 = np.linspace(0,1/pi,(nt+2))\n",
    "# y2 = f(x2)"
   ]
  },
  {
   "cell_type": "code",
   "execution_count": 23,
   "metadata": {},
   "outputs": [],
   "source": [
    "###### worked version\n",
    "theta = np.zeros(nt)\n",
    "for i in range(nt-1):\n",
    "    dx = (x[i+1] - x[i])/dt\n",
    "    dy = (y[i+1] - y[i])/dt\n",
    "    theta[i] = atan2(dy,dx)\n",
    "##### u should be size one less than theta, x andy y\n",
    "u = np.zeros(nt)\n",
    "for i in range(nt-1):\n",
    "    u[i] = (theta[i+1] - theta[i])/dt\n",
    "\n",
    "# print(theta)\n",
    "# print(u)"
   ]
  },
  {
   "cell_type": "code",
   "execution_count": 24,
   "metadata": {},
   "outputs": [
    {
     "data": {
      "image/png": "[encoded data removed]",
      "text/plain": [
       "<Figure size 432x288 with 1 Axes>"
      ]
     },
     "metadata": {
      "needs_background": "light"
     },
     "output_type": "display_data"
    }
   ],
   "source": [
    "x_sim = np.zeros(len(x))\n",
    "y_sim = np.zeros(len(y))\n",
    "theta_sim = np.zeros(len(theta))\n",
    "for i in range(nt-1):\n",
    "        if i == 0:\n",
    "            x_sim[0], y_sim[0], theta_sim[0] = x[0], y[0], theta[0]\n",
    "\n",
    "\n",
    "        x_sim[i+1] = x_sim[i] +  dt*cos(theta_sim[i])\n",
    "        y_sim[i+1] = y_sim[i] +  dt*sin(theta_sim[i])\n",
    "        theta_sim[i+1] = theta_sim[i] + dt*u[i]\n",
    "\n",
    "\n",
    "\n",
    "plt.plot(x_sim, y_sim)\n",
    "# plt.plot(x,y)\n",
    "plt.show()\n",
    "x_sim2 = x_sim\n",
    "y_sim2 = y_sim\n",
    "theta_sim[-1] = theta_sim[-2]"
   ]
  },
  {
   "cell_type": "code",
   "execution_count": 25,
   "metadata": {},
   "outputs": [
    {
     "name": "stdout",
     "output_type": "stream",
     "text": [
      "x for optimization [0.         0.00632759 0.01267347 0.0190562  0.025495   0.03200999\n",
      " 0.03862265 0.04535621 0.05223612 0.05929074 0.066552   0.07405635\n",
      " 0.0818459  0.08996987 0.09848647 0.1074652  0.11698988 0.12716227\n",
      " 0.13810632 0.14997224 0.16293845 0.17720558 0.19296951 0.21034805\n",
      " 0.22923227 0.24909354 0.26895481 0.28783903 0.30521757 0.3209815\n",
      " 0.33524863 0.34821484 0.36008076 0.37102481 0.3811972  0.39072188\n",
      " 0.39970061 0.40821721 0.41634119 0.42413073 0.43163508 0.43889634\n",
      " 0.44595096 0.45283087 0.45956443 0.46617709 0.47269209 0.47913088\n",
      " 0.48551361 0.49185949 0.49818708]\n",
      "y for optimization [ 0.00000000e+00  1.89726533e-02  3.79391999e-02  5.68933731e-02\n",
      "  7.58285768e-02  9.47376974e-02  1.13612884e-01  1.32445284e-01\n",
      "  1.51224707e-01  1.69939202e-01  1.88574495e-01  2.07113232e-01\n",
      "  2.25533953e-01  2.43809648e-01  2.61905713e-01  2.79776985e-01\n",
      "  2.97363356e-01  3.14583183e-01  3.31323192e-01  3.47422877e-01\n",
      "  3.62650396e-01  3.76666424e-01  3.88974899e-01  3.98873713e-01\n",
      "  4.05460529e-01  4.07812104e-01  4.05460529e-01  3.98873713e-01\n",
      "  3.88974899e-01  3.76666424e-01  3.62650396e-01  3.47422877e-01\n",
      "  3.31323192e-01  3.14583183e-01  2.97363356e-01  2.79776985e-01\n",
      "  2.61905713e-01  2.43809648e-01  2.25533953e-01  2.07113232e-01\n",
      "  1.88574495e-01  1.69939202e-01  1.51224707e-01  1.32445284e-01\n",
      "  1.13612884e-01  9.47376974e-02  7.58285768e-02  5.68933731e-02\n",
      "  3.79391999e-02  1.89726533e-02 -1.04083409e-16]\n",
      "theta for optimization [ 1.2488857   1.247922    1.2459778   1.24301881  1.23899172  1.23382192\n",
      "  1.22741003  1.21962713  1.21030824  1.19924332  1.18616511  1.17073226\n",
      "  1.15250601  1.13091748  1.10522132  1.07442941  1.03721552  0.99177843\n",
      "  0.93564893  0.86543287  0.77652027  0.66292349  0.51776657  0.33560538\n",
      "  0.11785134 -0.11785134 -0.33560538 -0.51776657 -0.66292349 -0.77652027\n",
      " -0.86543287 -0.93564893 -0.99177843 -1.03721552 -1.07442941 -1.10522132\n",
      " -1.13091748 -1.15250601 -1.17073226 -1.18616511 -1.19924332 -1.21030824\n",
      " -1.21962713 -1.22741003 -1.23382192 -1.23899172 -1.24301881 -1.2459778\n",
      " -1.247922   -1.2488857  -1.2488857 ]\n",
      "u for optimization [-4.81849289e-02 -9.72097469e-02 -1.47949845e-01 -2.01354329e-01\n",
      " -2.58489961e-01 -3.20594559e-01 -3.89144733e-01 -4.65944694e-01\n",
      " -5.53245769e-01 -6.53910591e-01 -7.71642696e-01 -9.11312523e-01\n",
      " -1.07942637e+00 -1.28480808e+00 -1.53959562e+00 -1.86069435e+00\n",
      " -2.27185470e+00 -2.80647501e+00 -3.51080280e+00 -4.44563001e+00\n",
      " -5.67983898e+00 -7.25784613e+00 -9.10805948e+00 -1.08877018e+01\n",
      " -1.17851342e+01 -1.08877018e+01 -9.10805948e+00 -7.25784613e+00\n",
      " -5.67983898e+00 -4.44563001e+00 -3.51080280e+00 -2.80647501e+00\n",
      " -2.27185470e+00 -1.86069435e+00 -1.53959562e+00 -1.28480808e+00\n",
      " -1.07942637e+00 -9.11312523e-01 -7.71642696e-01 -6.53910591e-01\n",
      " -5.53245769e-01 -4.65944694e-01 -3.89144733e-01 -3.20594559e-01\n",
      " -2.58489961e-01 -2.01354329e-01 -1.47949845e-01 -9.72097469e-02\n",
      " -4.81849289e-02  6.24442848e+01  0.00000000e+00]\n"
     ]
    }
   ],
   "source": [
    "print('x for optimization', x_sim)\n",
    "print('y for optimization', y_sim)\n",
    "print('theta for optimization', theta_sim)\n",
    "print('u for optimization', u)"
   ]
  },
  {
   "cell_type": "code",
   "execution_count": 8,
   "metadata": {},
   "outputs": [
    {
     "name": "stdout",
     "output_type": "stream",
     "text": [
      "simulated 0.019999999999999997\n",
      "origined 11.596801024000001\n",
      "difference 11.576801024000002\n"
     ]
    }
   ],
   "source": [
    "dx_check = x_sim[1:] - x_sim[0:-1]\n",
    "dy_check = y_sim[1:] - y_sim[0:-1]\n",
    "squ_dcheck = np.sum(dx_check**2 + dy_check**2)\n",
    "\n",
    "dx_sim = x[1:] - x[0:-1]\n",
    "dy_sim = y[1:] - y[0:-1]\n",
    "squ_dsim = np.sum(dx_sim**2 + dy_sim**2)\n",
    "\n",
    "print('simulated', squ_dcheck)\n",
    "print('origined', squ_dsim)\n",
    "print('difference', abs(squ_dcheck - squ_dsim))"
   ]
  },
  {
   "cell_type": "code",
   "execution_count": 9,
   "metadata": {},
   "outputs": [
    {
     "name": "stdout",
     "output_type": "stream",
     "text": [
      "(4, 51)\n"
     ]
    }
   ],
   "source": [
    "u = u.reshape((1,nt))\n",
    "x_sim = x_sim.reshape((1,nt))\n",
    "y_sim = y_sim.reshape((1,nt))\n",
    "theta_sim = theta_sim.reshape((1,nt))\n",
    "state = np.vstack((x_sim,y_sim,theta_sim,u))\n",
    "state_initials = state\n",
    "print(state_initials.shape)\n",
    "\n",
    "start_state = state_initials[0:3,0] \n",
    "end_state = state_initials[0:3,-1]"
   ]
  },
  {
   "cell_type": "code",
   "execution_count": 10,
   "metadata": {},
   "outputs": [],
   "source": [
    "###### constriants from paper\n",
    "\n",
    "# @jit(nopython=True)\n",
    "def system_dynamics(state_initials):\n",
    "    state_initials = state_initials.reshape((4,nt))\n",
    "    q = state_initials[0:3,:]\n",
    "\n",
    "    u = state_initials[-1,:]\n",
    "    u = u.reshape(1,(nt))\n",
    "    m,n = u.shape\n",
    "    \n",
    "#     error = np.zeros( 3*(nt-1) )\n",
    "    error = np.zeros( 3*(nt) )\n",
    "    initial_weight, final_weight = 1,1\n",
    "\n",
    "    for i in range(nt-1):\n",
    "        error[3*i] = (q[0, i+1] - q[0,i]) - dt*cos(q[2,i])\n",
    "        error[3*i+1] = (q[1, i+1] - q[1,i]) - dt*sin(q[2,i])\n",
    "        error[3*i+2] = (q[2, i+1] - q[2,i]) - dt*u[:,i]\n",
    "    \n",
    "#     print('before constriants', error)\n",
    "        \n",
    "        \n",
    "    \n",
    "#     error_bound = np.zeros(3*(nt-1))\n",
    "#     error_bound = np.zeros(3*(nt))\n",
    "#     error_bound[0] =  initial_weight*(q[0,0] - start_state[0])\n",
    "#     error_bound[1] = initial_weight*(q[1,0] - start_state[1])\n",
    "#     error_bound[2] = initial_weight*(q[2,0] - start_state[2])\n",
    "    \n",
    "#     error_bound[-3] = final_weight*(q[0,-1] - end_state[0])\n",
    "#     error_bound[-2] = final_weight*(q[1,-1] - end_state[1])\n",
    "#     error_bound[-1] = final_weight*(q[2,-1] - end_state[2])\n",
    "    error_initial = np.zeros(3)\n",
    "#     error[0] = error[0] + initial_weight*(q[0,0] - start_state[0])\n",
    "#     error[1] = error[1] + initial_weight*(q[1,0] - start_state[1])\n",
    "#     error[2] = error[2] + initial_weight*(q[2,0] - start_state[2])\n",
    "    error_initial[0] = initial_weight*(q[0,0] - start_state[0])\n",
    "    error_initial[1] = initial_weight*(q[1,0] - start_state[1])\n",
    "    error_initial[2] = initial_weight*(q[2,0] - start_state[2])\n",
    "    \n",
    "    error[-3] = error[-3] + final_weight*(q[0,-1] - end_state[0])\n",
    "    error[-2] = error[-2] + final_weight*(q[1,-1] - end_state[1])\n",
    "    error[-1] = error[-1] + final_weight*(q[2,-1] - end_state[2])\n",
    "    \n",
    "#     print('after constriants', error)\n",
    "#     print('--------------------------------------')\n",
    "    error_all = np.concatenate((error_initial, error), axis = None)\n",
    "    \n",
    "    \n",
    "    \n",
    "#     print(error)\n",
    "    \n",
    "#     error_all = np.concatenate((error, error_bound), axis = None)\n",
    "#     error_all = error + error_bound\n",
    "#     print(error_all)\n",
    "#     print('----------------------------------')\n",
    "\n",
    "    \n",
    "        \n",
    "        \n",
    "#     error[-6] = inital_weight*(q[0,0] - start_state[0])\n",
    "#     error[-5] = inital_weight*(q[1,0] - start_state[1])\n",
    "#     error[-4] = inital_weight*(q[2,0] - start_state[2])\n",
    "         \n",
    "#     error[-6] = inital_weight*(q[0,0] - 0)\n",
    "#     error[-5] = inital_weight*(q[1,0] - 0)\n",
    "#     error[-4] = inital_weight*(q[2,0] - 0)\n",
    "    \n",
    "#     error[-3] = final_weight*(q[0,-1] - end_state[0])\n",
    "#     error[-2] = final_weight*(q[1,-1] - end_state[1])\n",
    "#     error[-1] = final_weight*(q[2,-1] - end_state[2])\n",
    "#     print('error', error)\n",
    "#     print('------------------------------')\n",
    "    \n",
    "#     return np.sum(error_all*error_all)\n",
    "#     print('error', error_all)\n",
    "    return error_all"
   ]
  },
  {
   "cell_type": "code",
   "execution_count": 11,
   "metadata": {},
   "outputs": [],
   "source": [
    "# @jit(nopython=True)\n",
    "def cost_function(state_initials, nt, dt):\n",
    "    state_initials = state_initials.reshape((4,nt))\n",
    "    u_cost = state_initials[-1,:]\n",
    "#     u_cost = state_initials[-1,:]\n",
    "    running_cost = np.zeros((len(u_cost)))\n",
    "    \n",
    "    for i in prange(len(u_cost)):\n",
    "        running_cost[i] = dt*0.5*(u_cost[i])**2\n",
    "    cost = np.sum(np.square(running_cost))\n",
    "    return cost"
   ]
  },
  {
   "cell_type": "code",
   "execution_count": 21,
   "metadata": {},
   "outputs": [
    {
     "name": "stdout",
     "output_type": "stream",
     "text": [
      "Optimization terminated successfully    (Exit mode 0)\n",
      "            Current function value: 1.175606895708613\n",
      "            Iterations: 122\n",
      "            Function evaluations: 25010\n",
      "            Gradient evaluations: 122\n",
      "elasped_time:  15.193351745605469 seconds\n"
     ]
    }
   ],
   "source": [
    "######################\n",
    "#optimazation\n",
    "from time import time\n",
    "\n",
    "con = ({'type': 'eq', 'fun': system_dynamics})\n",
    "\n",
    "tic = time()\n",
    "sol = minimize(cost_function, state, args=(nt, dt), method='slsqp', jac=None, hess=None, hessp=None, bounds=None, constraints=con, tol=1e-9, callback=None, options={'disp':True, 'maxiter': 300})\n",
    "elasped_time = time() - tic\n",
    "print(\"elasped_time: \", elasped_time, \"seconds\")\n",
    "opt = sol.x.reshape((4,nt))"
   ]
  },
  {
   "cell_type": "code",
   "execution_count": 18,
   "metadata": {},
   "outputs": [
    {
     "data": {
      "image/png": "[encoded data removed]",
      "text/plain": [
       "<Figure size 600x400 with 1 Axes>"
      ]
     },
     "metadata": {},
     "output_type": "display_data"
    }
   ],
   "source": [
    "plt.figure(dpi=100,facecolor='w')\n",
    "plt.plot(opt[0,:],opt[1,:], color = 'b', label=\"optimized\")\n",
    "\n",
    "plt.plot(x_sim2, y_sim2, color = 'r', label = \"sim2\")\n",
    "plt.title('Optimized Trajectory')\n",
    "plt.gca().set_aspect('equal', adjustable='box')\n",
    "# plt.axvline(np.median(x_check), color='g', label='axvline - full height')\n",
    "plt.xlabel('x')\n",
    "plt.ylabel('y')\n",
    "plt.grid(True)\n",
    "plt.legend()\n",
    "plt.show()\n"
   ]
  },
  {
   "cell_type": "code",
   "execution_count": 15,
   "metadata": {},
   "outputs": [
    {
     "name": "stdout",
     "output_type": "stream",
     "text": [
      "0.020000000000107328\n",
      "0.019999999999999997\n"
     ]
    }
   ],
   "source": [
    "dx_sim = x_sim2[1:] - x_sim2[0:-1]\n",
    "dy_sim = y_sim2[1:] - y_sim2[0:-1]\n",
    "squ_dsim = np.sum(dx_sim**2 + dy_sim**2)\n",
    "\n",
    "xop = opt[0,:]\n",
    "yop = opt[1,:]\n",
    "dx_opt = xop[1:] - xop[0:-1]\n",
    "dy_opt = yop[1:] - yop[0:-1]\n",
    "squ_dopt = np.sum(dx_opt**2 + dy_opt**2)\n",
    "\n",
    "\n",
    "print(squ_dopt)\n",
    "print(squ_dsim)"
   ]
  },
  {
   "cell_type": "code",
   "execution_count": null,
   "metadata": {},
   "outputs": [],
   "source": []
  },
  {
   "cell_type": "code",
   "execution_count": null,
   "metadata": {},
   "outputs": [],
   "source": []
  }
 ],
 "metadata": {
  "kernelspec": {
   "display_name": "Python 3",
   "language": "python",
   "name": "python3"
  },
  "language_info": {
   "codemirror_mode": {
    "name": "ipython",
    "version": 3
   },
   "file_extension": ".py",
   "mimetype": "text/x-python",
   "name": "python",
   "nbconvert_exporter": "python",
   "pygments_lexer": "ipython3",
   "version": "3.8.10"
  }
 },
 "nbformat": 4,
 "nbformat_minor": 4
}
